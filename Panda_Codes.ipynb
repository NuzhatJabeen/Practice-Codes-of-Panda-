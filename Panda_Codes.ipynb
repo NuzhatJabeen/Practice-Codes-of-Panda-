{
  "cells": [
    {
      "cell_type": "markdown",
      "metadata": {
        "id": "view-in-github",
        "colab_type": "text"
      },
      "source": [
        "<a href=\"https://colab.research.google.com/github/NuzhatJabeen/Practice-Codes-of-Panda-/blob/main/Panda_Codes.ipynb\" target=\"_parent\"><img src=\"https://colab.research.google.com/assets/colab-badge.svg\" alt=\"Open In Colab\"/></a>"
      ]
    },
    {
      "cell_type": "code",
      "execution_count": null,
      "metadata": {
        "colab": {
          "base_uri": "https://localhost:8080/",
          "height": 235
        },
        "id": "K57eYn0Tqcyl",
        "outputId": "740c2db6-b928-44ee-ab13-e1a292345f70"
      },
      "outputs": [
        {
          "output_type": "error",
          "ename": "NameError",
          "evalue": "ignored",
          "traceback": [
            "\u001b[0;31m---------------------------------------------------------------------------\u001b[0m",
            "\u001b[0;31mNameError\u001b[0m                                 Traceback (most recent call last)",
            "\u001b[0;32m<ipython-input-6-689df48832d7>\u001b[0m in \u001b[0;36m<module>\u001b[0;34m()\u001b[0m\n\u001b[1;32m      4\u001b[0m      \u001b[0;34m'passings'\u001b[0m\u001b[0;34m:\u001b[0m\u001b[0;34m[\u001b[0m\u001b[0;36m3\u001b[0m\u001b[0;34m,\u001b[0m\u001b[0;36m7\u001b[0m\u001b[0;34m,\u001b[0m\u001b[0;36m2\u001b[0m\u001b[0;34m]\u001b[0m            \u001b[0;31m#Set the value of the cars in the variable named \"passings\"\u001b[0m\u001b[0;34m\u001b[0m\u001b[0;34m\u001b[0m\u001b[0m\n\u001b[1;32m      5\u001b[0m }\n\u001b[0;32m----> 6\u001b[0;31m \u001b[0mmy_var\u001b[0m\u001b[0;34m=\u001b[0m\u001b[0mpanda\u001b[0m\u001b[0;34m.\u001b[0m\u001b[0mDataFrame\u001b[0m\u001b[0;34m(\u001b[0m\u001b[0mmydataset\u001b[0m\u001b[0;34m)\u001b[0m    \u001b[0;31m#DataFrame is a 2D data structure, like a 2D array/table with rows and coloumns\u001b[0m\u001b[0;34m\u001b[0m\u001b[0;34m\u001b[0m\u001b[0m\n\u001b[0m\u001b[1;32m      7\u001b[0m \u001b[0mprint\u001b[0m\u001b[0;34m(\u001b[0m\u001b[0mmy_var\u001b[0m\u001b[0;34m)\u001b[0m                      \u001b[0;31m#Print the variables \"myvar\" which was initialized before\u001b[0m\u001b[0;34m\u001b[0m\u001b[0;34m\u001b[0m\u001b[0m\n\u001b[1;32m      8\u001b[0m \u001b[0;34m\u001b[0m\u001b[0m\n",
            "\u001b[0;31mNameError\u001b[0m: name 'panda' is not defined"
          ]
        }
      ],
      "source": [
        "import pandas as pd   #Import Panda libraries\n",
        "mydataset={\n",
        "    'cars':[\"BMW\",\"Volvo\",\"Ford\"], #Set the name of the cars in \"cars\" variable\n",
        "     'passings':[3,7,2]            #Set the value of the cars in the variable named \"passings\"\n",
        "}\n",
        "my_var=panda.DataFrame(mydataset)    #DataFrame is a 2D data structure, like a 2D array/table with rows and coloumns\n",
        "print(my_var)                      #Print the variables \"myvar\" which was initialized before\n",
        "\n",
        "      #Pandas Series(With the index of an array)\n",
        "\n",
        "import pandas as pd    #Import Panda Libraries\n",
        "a=[1,7,2]              #Initialize an array named \"a\" and store the value 1,7,2 inside it \n",
        "my_var=pd.Series(a)    #\"pd.Series\" is a 1D labelled data structure which is capable data such as strings, integers and even other Python objects\n",
        "print(my_var)          #Print the variables \"myvar\" which was initialized before\n",
        "print(my_var[0])       #Print the variable which is placed at the '0' index of an array. Hence, the output will be 1\n",
        "\n",
        "      #Panda Series(By creating our own index)\n",
        "\n",
        "import pandas as pd    #Import Panda Libraries\n",
        "a=[1,7,2]              #Initialize an array named \"a\" and store the value 1,7,2 inside it \n",
        "my_var=pd.Series(a,index=[\"x\",\"y\",\"z\"])    #Name the index of the array as x,y and z, i.e, \"x\" is placed at the 0 index of an array, \"y\" is placed at the 1 index of an array and \"z\" is placed at the 2 index of an array\n",
        "print(my_var)          #Print the variables \"myvar\" which was initialized before\n",
        "print(my_var[\"y\"])     #Print the variable which is placed at the 'y' index of an array. Hence, the output will be 7.\n",
        "\n",
        "      #Panda DataFrames\n",
        "\n",
        "import pandas as pd     #Import Panda Libraries\n",
        "data={\n",
        "    'calories':[420,380,390],\n",
        "    'duration':[50,40,45]\n",
        "}\n",
        "#Load the data into a DataFrame Object\n",
        "df=pd.DataFrame(data)\n",
        "print(df)\n",
        "\n",
        "#Refer to the row index\n",
        "print(df.loc[0]) #loc() function helps us to retrieve data values from a dataset at an ease. Using the loc() function, we can access the data values fitted in the particular row or column based on the index value passed to the function.\n",
        "                  #Here loc[0] indicates the row/coloumn values of index 0\n",
        "\n",
        "#Use a list of indexes\n",
        "print(df.loc[0,1])   \n",
        "\n",
        "#Change the name of the indexes\n",
        "\n",
        "import pandas as pd\n",
        "data={\n",
        "    'calories':[420,380,390],\n",
        "    'duration':[50,40,45]\n",
        "}\n",
        "df=pd.DataFrame(data,index=[\"day 1\",\"day 2\",\"day 3\"])\n",
        "print(df)\n",
        "\n",
        "#Refer to the named index\n",
        "print(df.loc[\"day 2\"])\n",
        "\n",
        "      #Pandas read CSV(Comma Separted Value)\n",
        "      #Load the CSV File into a DataFrame\n",
        "\n",
        "import pandas as pd\n",
        "df=pd.read_csv('data.csv')\n",
        "print(df.to_string())  # to_string() prints the entire dataframe\n",
        "      \n",
        "      #Print the DataFrame without \"to_string()\"\n",
        "import pandas as pd\n",
        "df=pd.read_csv('data.csv')\n",
        "print(df)\n",
        "\n",
        "      #Check a system's maximum rows with \"pd.options.display.max_rows\"\n",
        "\n",
        "import pandas as pd\n",
        "pd.options.display.max_rows=100\n",
        "df=pd.read_csv('data.csv')\n",
        "print(df)\n",
        "\n",
        "      #Analyzing DataFrames\n",
        "\n",
        "import pandas as pd\n",
        "df=pd.read_csv('data.csv')\n",
        "print(df.head(10))  # head() returns the headers and a specified no. of rows, starting from the top. Here, 10 indicated the no. of rows. Output will be the data from 0-9(According to the indexes in array)\n",
        "\n",
        "import pandas as pd\n",
        "df=pd.read_csv('data.csv')\n",
        "print(df.head())    #If the no. of rows are not specified, head() will return upto 5 rows(0-4 index in an array)\n",
        "\n",
        "import pandas as pd\n",
        "df=pd.read_csv('data.csv')\n",
        "print(df.tail())  # tail() returns the headers and a specified no. of rows, starting from the bottom.\n",
        "\n",
        "import pandas as pd\n",
        "df=pd.read_csv('data.csv')\n",
        "print(df.info())  #Gives more information about the dataset\n",
        "\n",
        "\n"
      ]
    },
    {
      "cell_type": "code",
      "source": [
        ""
      ],
      "metadata": {
        "id": "3sF-WhzT_fw-"
      },
      "execution_count": null,
      "outputs": []
    }
  ],
  "metadata": {
    "colab": {
      "name": "Panda Codes.ipynb",
      "provenance": [],
      "authorship_tag": "ABX9TyNnVLH4pE/TgLkR+kEqvlIa",
      "include_colab_link": true
    },
    "kernelspec": {
      "display_name": "Python 3",
      "name": "python3"
    },
    "language_info": {
      "name": "python"
    }
  },
  "nbformat": 4,
  "nbformat_minor": 0
}