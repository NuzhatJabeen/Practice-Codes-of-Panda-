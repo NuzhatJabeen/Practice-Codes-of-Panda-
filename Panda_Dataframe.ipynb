{
  "nbformat": 4,
  "nbformat_minor": 0,
  "metadata": {
    "colab": {
      "provenance": [],
      "authorship_tag": "ABX9TyPtYwp7JgZhusKkIaPIYdWM",
      "include_colab_link": true
    },
    "kernelspec": {
      "name": "python3",
      "display_name": "Python 3"
    },
    "language_info": {
      "name": "python"
    }
  },
  "cells": [
    {
      "cell_type": "markdown",
      "metadata": {
        "id": "view-in-github",
        "colab_type": "text"
      },
      "source": [
        "<a href=\"https://colab.research.google.com/github/NuzhatJabeen/Practice-Codes-of-Panda-/blob/main/Panda_Dataframe.ipynb\" target=\"_parent\"><img src=\"https://colab.research.google.com/assets/colab-badge.svg\" alt=\"Open In Colab\"/></a>"
      ]
    },
    {
      "cell_type": "code",
      "execution_count": null,
      "metadata": {
        "colab": {
          "base_uri": "https://localhost:8080/"
        },
        "id": "lIAHBLndVKzI",
        "outputId": "1981d11d-79d6-4963-d401-9e11e651f641"
      },
      "outputs": [
        {
          "output_type": "stream",
          "name": "stdout",
          "text": [
            "   calories  duration\n",
            "0       420        50\n",
            "1       380        40\n",
            "2       390        45\n",
            "      Id  SepalLengthCm  SepalWidthCm  PetalLengthCm  PetalWidthCm  \\\n",
            "145  146            6.7           3.0            5.2           2.3   \n",
            "146  147            6.3           2.5            5.0           1.9   \n",
            "147  148            6.5           3.0            5.2           2.0   \n",
            "148  149            6.2           3.4            5.4           2.3   \n",
            "149  150            5.9           3.0            5.1           1.8   \n",
            "\n",
            "            Species  \n",
            "145  Iris-virginica  \n",
            "146  Iris-virginica  \n",
            "147  Iris-virginica  \n",
            "148  Iris-virginica  \n",
            "149  Iris-virginica  \n"
          ]
        }
      ],
      "source": [
        "import pandas as pd\n",
        "data={\n",
        "    \"calories\":[420,380,390], #Datas for Calories in arrays\n",
        "    \"duration\":[50,40,45]     #Datas for Duration in arrays\n",
        "}\n",
        "#load the data into DataFrame object:\n",
        "\n",
        "df=pd.DataFrame(data) #Declare the data inside the pd.DataFrame and store it inside the df variable\n",
        "print(df) \n",
        "df=pd.read_csv('/content/Iris.csv')\n",
        "print(df.head(10)) #It will print the index of the iris datasets from 0-9\n",
        "print(df.tail())\n"
      ]
    }
  ]
}